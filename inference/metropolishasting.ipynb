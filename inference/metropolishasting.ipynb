{
 "cells": [
  {
   "cell_type": "code",
   "execution_count": 1,
   "metadata": {},
   "outputs": [],
   "source": [
    "import  scipy.stats\n",
    "import numpy as np\n",
    "import random\n",
    "%matplotlib inline\n",
    "import matplotlib.pyplot as plt\n",
    "\n",
    "# PS: on how to choose proposal distributions\n",
    "# [Optimal Proposal Distributions and Adaptive MCMC: Jeffrey S. Rosenthal*]"
   ]
  },
  {
   "cell_type": "code",
   "execution_count": 21,
   "metadata": {},
   "outputs": [],
   "source": [
    "# Metropolis Hasting sampling to approach target distribution Poisson(5). Choose q from random walk [always 1]\n",
    "mu = 5\n",
    "p = scipy.stats.poisson(mu)\n",
    "#rv = random.choice(range(20)) # as proposal distribution \n",
    "ratio = scipy.stats.uniform()\n",
    "\n",
    "sample_size = 5000\n",
    "samples = []\n",
    "theta = 1  #Initial value\n",
    "\n",
    "random.seed(11)\n",
    "for i in range(sample_size):\n",
    "    rv = random.choice(range(20))  # sample from proposal distribution \n",
    "    log_alpha = p.logpmf(rv) - p.logpmf(theta)\n",
    "    if np.log(ratio.rvs()) < log_alpha:\n",
    "        theta = rv\n",
    "    samples.append(theta)\n",
    "    \n"
   ]
  },
  {
   "cell_type": "code",
   "execution_count": 22,
   "metadata": {},
   "outputs": [
    {
     "data": {
      "text/plain": [
       "(array([1.980e+02, 1.253e+03, 1.610e+03, 1.274e+03, 3.640e+02, 2.380e+02,\n",
       "        5.300e+01, 9.000e+00, 0.000e+00, 1.000e+00]),\n",
       " array([ 0. ,  1.8,  3.6,  5.4,  7.2,  9. , 10.8, 12.6, 14.4, 16.2, 18. ]),\n",
       " <BarContainer object of 10 artists>)"
      ]
     },
     "execution_count": 22,
     "metadata": {},
     "output_type": "execute_result"
    },
    {
     "data": {
      "image/png": "[encoded data removed]",
      "text/plain": [
       "<Figure size 432x288 with 1 Axes>"
      ]
     },
     "metadata": {
      "needs_background": "light"
     },
     "output_type": "display_data"
    }
   ],
   "source": [
    "plt.hist(samples)"
   ]
  },
  {
   "cell_type": "code",
   "execution_count": null,
   "metadata": {},
   "outputs": [],
   "source": []
  }
 ],
 "metadata": {
  "interpreter": {
   "hash": "4fe4d979157ad329c31d983cb923d884adf74218b109fae72be7ea3e52751a58"
  },
  "kernelspec": {
   "display_name": "Python 3.9.9 ('gaussian_process')",
   "language": "python",
   "name": "python3"
  },
  "language_info": {
   "codemirror_mode": {
    "name": "ipython",
    "version": 3
   },
   "file_extension": ".py",
   "mimetype": "text/x-python",
   "name": "python",
   "nbconvert_exporter": "python",
   "pygments_lexer": "ipython3",
   "version": "3.9.9"
  },
  "orig_nbformat": 4
 },
 "nbformat": 4,
 "nbformat_minor": 2
}
