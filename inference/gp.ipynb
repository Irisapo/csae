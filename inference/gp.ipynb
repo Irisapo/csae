{
 "cells": [
  {
   "cell_type": "code",
   "execution_count": 118,
   "metadata": {},
   "outputs": [],
   "source": [
    "# collapsed NNGP \n",
    "\n",
    "import numpy as np \n",
    "import pandas as pd\n",
    "import scipy.sparse  as ss"
   ]
  },
  {
   "cell_type": "code",
   "execution_count": 97,
   "metadata": {},
   "outputs": [],
   "source": []
  },
  {
   "cell_type": "code",
   "execution_count": 209,
   "metadata": {},
   "outputs": [
    {
     "name": "stderr",
     "output_type": "stream",
     "text": [
      "/var/folders/47/5_b8qynj1q5f_jwc87syz7_r0000gn/T/ipykernel_25479/1754466221.py:14: DeprecationWarning: This function is deprecated. Please call randint(1, 20 + 1) instead\n",
      "  X = np.random.random_integers(20, size=(n, p))\n"
     ]
    }
   ],
   "source": [
    "# get indices of nearest neighbors for each vector (row)\n",
    "# This is to calculate A, D from C\n",
    "# A is strictly lower triangular matrix\n",
    "# D is diagonal matrix\n",
    "\n",
    "\n",
    "# X is n-by-p matrix\n",
    "# n: number of spots\n",
    "# p: number of elements for each spot\n",
    "# X needs to be first ordered by the mean of the vector in ascending(descending) order\n",
    "\n",
    "n = 20\n",
    "p = 8\n",
    "X = np.random.random_integers(20, size=(n, p))\n",
    "X_sorted = np.array( sorted(X, key = lambda v: np.mean(v) ))\n",
    "#X_sorted = sorted(X, key = lambda v: np.mean(v) )\n",
    "\n",
    "\n",
    "# m neighbors of each row/spot\n",
    "m = 5\n",
    "nnindex = {}\n",
    "for i in range(n):\n",
    "    if i < m:\n",
    "        nnindex[i] = np.array(range(i))\n",
    "    else:\n",
    "        sed = np.array([float('inf') for s in range(m)]) # initialize squared euclidian distance\n",
    "        nn = np.array([0 for s in range(m)]) \n",
    "        j = 0   \n",
    "        while j < i:\n",
    "            distance = np.sum((X_sorted[i] - X_sorted[j]) ** 2)\n",
    "            if distance < sed[m-1]:\n",
    "                sed[m-1] = distance\n",
    "                nn[m-1] = j\n",
    "                sort_index = np.argsort(sed)#.astype(int)\n",
    "                sed = sed[sort_index]\n",
    "                nn = nn[sort_index]\n",
    "            j += 1\n",
    "        nnindex[i] = nn\n",
    "\n",
    "\n",
    "# For the covariance matrix C\n",
    "# C is n-by-n matrix\n",
    "# A is \n",
    "# C = given ahead \n",
    "## Using pseudo code 2 from efficiency paper \n",
    "C = np.cov(X_sorted)\n",
    "A = np.zeros((n,n)) # Initialize A \n",
    "D = ss.identity(n).toarray()\n",
    "\n",
    "\n",
    "for i in range(1, n-1):\n",
    "    A[i+1, nnindex[i+1]] = np.linalg.solve(C[nnindex[i+1]][:,  nnindex[i+1]], C[nnindex[i+1]][:, i+1] ) # A[i+1,N[i+1]] = solve(C[N[i+1],N[i+1]], C[N[i+1],i+1])\n",
    "    D[i+1, i+1] = C[i+1, i+1] - np.inner(C[i+1][nnindex[i+1]], A[i+1][nnindex[i+1]]) # D[i+1, i+1] = C[i+1,i+1] - dot(C[i+1, N[i+1]], A[i+1,N[i+1]])\n"
   ]
  },
  {
   "cell_type": "code",
   "execution_count": 215,
   "metadata": {},
   "outputs": [],
   "source": [
    "np.random.seed(1234)\n",
    "log_lambda_sorted = np.random.normal(loc = 10, scale = 5, size=n)  \n",
    "log_lambda_sorted = log_lambda - min(log_lambda)  # log_lambda is given  \n",
    "beta = np.random.standard_normal(size=p)  # beta is given\n",
    "\n",
    "## algorithm 1 \n",
    "# Update theta, tau, and epsilon \n",
    "# Liimt both tau and epsilon being positive\n",
    "\n",
    "\n",
    "## Step 1\n",
    "tau_a, tau_b, epsilon_a, epsilon_b, theta_a, theta_b = 2, 20, 2, 10, 2, 20\n",
    "\n",
    "theta = tau = epsilon = 2 # initialize values \n",
    "epsilon_inverse = 1/epsilon \n",
    "tau_inverse = 1/tau\n",
    "Omega = (np.identity(n) - A).T @ np.linalg.solve(D, np.identity(n) - A) + epsilon_inverse * np.identity(n)\n",
    "L = np.linalg.cholesky(Omega)\n",
    "r = log_lambda_sorted - X_sorted @ beta \n",
    "u = np.linalg.solve(L, r)\n",
    "v = np.linalg.solve(L.T, u)\n",
    "q = (np.dot(r, r) * epsilon_inverse - np.dot(r, v) * epsilon_inverse ** 2) * tau_inverse\n",
    "d = (tau * epsilon) ** n * np.prod(np.diag(D)) * np.prod(np.diag(L)) ** 2\n",
    "## Metrapolis-Hasting to sample new theta, tau, and epislon\n",
    "## Todo: how to choose q(theta_cand | theta_(i-1)) for M-H algo \n",
    "##       rn use the random walk on the prior distribution\n",
    "sample_size = 1 # predefined sample size --> only one sample ?\n",
    "theta_sample = []\n",
    "tau_sample = []\n",
    "epsilon_sample = []\n",
    "for s in range(sample_size):\n",
    "    theta_cand = np.random.uniform(low=theta_a, high=theta_b, size = 1)\n",
    "    #log_p_ratio = -q/2 + ----- # Todo: ??? need to recalculate the step 1 again for theta_cand  \n",
    "\n",
    "\n",
    "## Step 2\n",
    "# nu_beta, V_beta are the parameters in conjugate prior MVN for beta\n",
    "nu_beta = np.array([1 for i in range(p)])\n",
    "V_beta = np.identity(p) \n",
    "v2 = {}\n",
    "for i in range(p):\n",
    "    u2 = np.linalg.solve(L, X_sorted[:, i])\n",
    "    v2[i] = np.linalg.solve(L.T, u2)\n",
    "F = np.linalg.solve(V_beta, np.identity(p))\n",
    "f = np.linalg.solve(V_beta, nu_beta)\n",
    "b = np.zeros(p)\n",
    "B = np.zeros((p, p))\n",
    "for j in range(p):\n",
    "    b[j] = (np.dot(log_lambda_sorted, X_sorted[:, j]) * epsilon_inverse - np.dot(log_lambda_sorted, v2[j]) * epsilon_inverse ** 2) * tau_inverse + f[j]\n",
    "    for i in range(p):\n",
    "        B[i,j] = ( np.dot(X_sorted[:, i], X_sorted[:, j]) * epsilon_inverse + np.dot(X_sorted[:, i], v2[j]) * epsilon_inverse ** 2 ) * tau_inverse + F[i,j]\n",
    "beta = np.random.multivariate_normal(mean=np.linalg.solve(B, b), cov=np.linalg.solve(B, np.identity(p))) # update beta\n"
   ]
  },
  {
   "cell_type": "code",
   "execution_count": null,
   "metadata": {},
   "outputs": [],
   "source": []
  },
  {
   "cell_type": "code",
   "execution_count": null,
   "metadata": {},
   "outputs": [],
   "source": []
  },
  {
   "cell_type": "code",
   "execution_count": null,
   "metadata": {},
   "outputs": [],
   "source": []
  },
  {
   "cell_type": "code",
   "execution_count": null,
   "metadata": {},
   "outputs": [],
   "source": []
  }
 ],
 "metadata": {
  "interpreter": {
   "hash": "4fe4d979157ad329c31d983cb923d884adf74218b109fae72be7ea3e52751a58"
  },
  "kernelspec": {
   "display_name": "Python 3.9.9 ('gaussian_process')",
   "language": "python",
   "name": "python3"
  },
  "language_info": {
   "codemirror_mode": {
    "name": "ipython",
    "version": 3
   },
   "file_extension": ".py",
   "mimetype": "text/x-python",
   "name": "python",
   "nbconvert_exporter": "python",
   "pygments_lexer": "ipython3",
   "version": "3.9.9"
  },
  "orig_nbformat": 4
 },
 "nbformat": 4,
 "nbformat_minor": 2
}
